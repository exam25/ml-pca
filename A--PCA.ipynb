{
 "cells": [
  {
   "cell_type": "code",
   "execution_count": null,
   "id": "8f34ef0d",
   "metadata": {},
   "outputs": [],
   "source": [
    "import numpy as np \n",
    "import pandas as pd\n",
    "import matplotlib.pyplot as plt\n",
    "import seaborn as sns\n",
    "from sklearn.preprocessing import StandardScaler\n",
    "\n",
    "df=pd.read_csv('iris.csv')\n",
    "df.head()\n",
    "\n",
    "X = df.drop(['species'],axis=1)\n",
    "y=df['species']\n",
    "\n",
    "X = StandardScaler().fit_transform(X)\n",
    "\n",
    "# features = X.T\n",
    "cov_matrix = np.cov(X.T)\n",
    "values, vectors = np.linalg.eig(cov_matrix)\n",
    "\n",
    "var = []\n",
    "for i in range(len(values)):\n",
    "    var.append((values[i] / np.sum(values))*100)\n",
    "\n",
    "print(\"variances of each feature\",var)\n",
    "\n",
    "plt.bar(range(4),var)\n",
    "plt.ylabel('Percentage of explained variance')\n",
    "plt.xlabel('Dimensions')\n",
    "\n",
    "projected_1 = X.dot(vectors.T[0])\n",
    "projected_2 = X.dot(vectors.T[1])\n",
    "res = pd.DataFrame(projected_1, columns=['PC1'])\n",
    "res['PC2'] = projected_2\n",
    "res['Y'] = y\n",
    "print(res.head())\n",
    "\n",
    "sns.FacetGrid(res, hue=\"Y\").map(plt.scatter, 'PC1', 'PC2').add_legend()\n",
    "plt.show()"
   ]
  },
  {
   "cell_type": "code",
   "execution_count": null,
   "id": "5aa42500",
   "metadata": {},
   "outputs": [],
   "source": []
  }
 ],
 "metadata": {
  "kernelspec": {
   "display_name": "Python 3 (ipykernel)",
   "language": "python",
   "name": "python3"
  },
  "language_info": {
   "codemirror_mode": {
    "name": "ipython",
    "version": 3
   },
   "file_extension": ".py",
   "mimetype": "text/x-python",
   "name": "python",
   "nbconvert_exporter": "python",
   "pygments_lexer": "ipython3",
   "version": "3.11.4"
  }
 },
 "nbformat": 4,
 "nbformat_minor": 5
}
